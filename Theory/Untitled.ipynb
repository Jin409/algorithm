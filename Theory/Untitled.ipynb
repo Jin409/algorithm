{
 "cells": [
  {
   "cell_type": "markdown",
   "id": "cf06f17f",
   "metadata": {},
   "source": [
    "# 분할 정복 알고리즘 (Devide - and - Conqeur)"
   ]
  },
  {
   "cell_type": "markdown",
   "id": "ef7235d0",
   "metadata": {},
   "source": [
    "### 분할 정복 알고리즘이란?\n",
    "- 주어진 문제의 입력을 문할하여 해결하는 방식의 알고리즘\n",
    "- 분할된 입력에 대하여 동일한 알고리즘을 적용하여 해를 계산, 이를 취합하여 원래의 해를 얻음.\n",
    "- 입력크기인 n이 계속해서 반씩 줄어들어 언젠가 1이 된다면 더 이상 분할하지 않는다.\n",
    "- 줄어드는 횟수는 $\\log_2 n$ 이다. (지속해서 2씩 나누기 때문)\n"
   ]
  },
  {
   "cell_type": "markdown",
   "id": "23ebf462",
   "metadata": {},
   "source": [
    "### 합병 정렬\n",
    "\n",
    "- n개의 숫자들을 n/2개씩 2개의 부분 문제로 분할하여 합병 정렬하고, 정렬된 부분들을 합병하여 정렬."
   ]
  },
  {
   "cell_type": "markdown",
   "id": "3a4586f4",
   "metadata": {},
   "source": [
    "```python\n",
    "def merge_sort(A,first,last):\n",
    "\tif first>=last:\n",
    "    \treturn\n",
    "    #1. \n",
    "    merge_sort(A,first,(first+last)//2)\n",
    "    #2.\n",
    "    merge_sort(A,(first+last)//2+1,last)\n",
    "    #3.\n",
    "    merge_two_sorted_lists(A,first,last)\n",
    "```"
   ]
  },
  {
   "cell_type": "markdown",
   "id": "f4e64d60",
   "metadata": {},
   "source": [
    "```python\n",
    "def merge_two_sorted_lists(A,first,last):\n",
    "\t#1.\n",
    "\tm = (first+last)//2\n",
    "    #2.\n",
    "    i,j = first,m+1\n",
    "    #3.\n",
    "    B = []\n",
    "    #4.\n",
    "    while i<=m and j<=last:\n",
    "    \tif A[i]<A[j]:\n",
    "        \tB.append(A[i])\n",
    "            i+=1\n",
    "        elif A[i]>A[j]:\n",
    "        \tB.append(A[j]\n",
    "            j+=1\n",
    "       \telse:\n",
    "        \tB.append(A[i])\n",
    "            i+=1\n",
    "            j+=1\n",
    "    #5.\n",
    "    while i<=m:\n",
    "    \tB.append(A[i])\n",
    "    \ti+=1\n",
    "    #6.\n",
    "  \twhile j<=last:\n",
    "    \tB.append(A[j])\n",
    "    #7. \n",
    "    for i in range(first,last+1):\n",
    "    \tA[i] = B[i-first]\n",
    "```"
   ]
  },
  {
   "cell_type": "markdown",
   "id": "f96e455f",
   "metadata": {},
   "source": [
    "#1. 범위를 반으로 나누어 m을 인덱스의 기준점으로 삼는다.\n",
    "\n",
    "#2. i는 A의 반의 앞쪽부분, j는 A의 반의 뒷쪽부분 인덱스로 설정한다.\n",
    "\n",
    "#3. 두 부분이 합병되어 담겨질 리스트를 생성한다.\n",
    "\n",
    "#4. i는 m 즉 범위의 반보다 작거나 같을 동안, j는 m+1부터 범위의 마지막일때까지 while 문을 돈다.\n",
    "\n",
    "여기서 A[i]가 더 작으면 B 에 append하고 앞쪽 인덱스인 i를 하나 증가시킨다.\n",
    "\n",
    "A[j]가 더 작으면 B 에 append하고 뒷쪽 인덱스인 j를 하나 증가시킨다.\n",
    "\n",
    "A[i]와 A[j]가 같다면 둘 중에 하나를 append하고 (어차피 같으므로) 두 인덱스인 i와 j 모두 하나씩 증가시킨다.\n",
    "\n",
    "#5. while문을 탈출하고 나서 A의 앞쪽 부분에 인덱스가 m보다 작다면 뒷쪽 부분의 인덱스가 last와 같아져서 while 문을 탈출한 것이기에 앞쪽 부분을 전부 B에 append한다.\n",
    "\n",
    "#6. #5와 동일한 내용\n",
    "\n",
    "#7. A는 first 부터 last까지이지만, B는 인덱스가 0부터 시작했으므로 A에는 B[i-first] 해주어야 한다.\n",
    "\n",
    "ex) first가 10, last가 20이라면 B는 0부터 10까지이므로 B[i-first] 즉 first-first, first+1-first ... 가 되어야 한다."
   ]
  },
  {
   "cell_type": "markdown",
   "id": "3294d6e4",
   "metadata": {},
   "source": [
    "#### 합병 정렬의 의사코드\n",
    "\n",
    "```python\n",
    "\n",
    "MergeSort(A,p,g)\n",
    "if (p<q)\n",
    "    k = (p+q)/2\n",
    "    MergeSort(A,p,k)\n",
    "    MergeSort(A,k+1,q)\n",
    "    이후 A[p]~A[k] 와 A[k+1]~A[q]를 합병\n",
    "\n",
    "```\n",
    "\n",
    "- p가 시작점, q가 끝점. \n",
    "- k는 p와 q의 중앙 \n",
    "- 재귀적으로 k를 기준으로 왼쪽 반, 오른쪽 반을 정렬.\n",
    "- 종료 조건은 개수가 하나일떄"
   ]
  },
  {
   "cell_type": "markdown",
   "id": "6c3de66a",
   "metadata": {},
   "source": [
    "### 합병 정렬의 시간복잡도\n",
    "\n",
    "- 분할은 O(1) => 중앙값 계산, 순환호출\n",
    "- 합병은 두 데이터의 집합을 합한 것만큼 비어있는 별도의 배열에 가장 작은 요소를 추가하고, 추가된 요소는 원래의 집합에서 삭제한다. \n",
    "    => 합병의 수행시간은 각 원소의 개수에 비례하므로 O(n) 이다.\n",
    "- 앞서 말했듯, n이 입력의 크기라면 $\\log_2 n$번만큼 비교를 해야 하므로 n * 1* $\\log_2 n$이므로 O(n $\\log_2 n$) 이다."
   ]
  },
  {
   "cell_type": "markdown",
   "id": "4f3e8eab",
   "metadata": {},
   "source": [
    "### 퀵 정렬\n",
    "\n",
    "- pivot 피봇을 범위 내에서 선택하고, A[left] (가장 작은 인덱스) 와 교환하고 피봇을 기준으로 왼쪽에는 피봇보다 더 작은 숫자들, 오른쪽에는 피봇보다 큰 숫자들을 정렬.\n",
    "- 모든 원소들을 피봇을 기준으로 정렬한 뒤, A[left] ~ A[p-1] 과 A[p+1] ~ A[right] 사이에 피봇을 위치시킨다."
   ]
  },
  {
   "cell_type": "markdown",
   "id": "87bbdee2",
   "metadata": {},
   "source": [
    "### 퀵 정렬의 시간복잡도\n",
    "\n",
    "- 퀵 정렬의 성능은 피봇이 좌우한다.\n",
    "- 피봇이 너무 크거나 너무 작은 경우에는 성능이 O($n^2$)으로 하락한다.\n",
    "- 최선의 경우에는 합병 정렬과 같이 O(n $\\log_2 n$)이다.\n",
    "- 성능이 O($n^2$)으로 하락하는 것을 방지하기 위하여 부분적으로 문제의 크기가 일정 이하로 줄어드는 경우에는 삽입 정렬을 이용하는 경우도 존재한다."
   ]
  },
  {
   "cell_type": "markdown",
   "id": "e00b01c8",
   "metadata": {},
   "source": [
    "#### 피봇을 잘 선정하는 방법은?\n",
    "\n",
    "- A[left] 와 A[right] 와 A[(left+right)/2] 의 값 중에서 중앙이 되는 값을 피봇으로 선정하면 평균적으로 성능이 향상된다."
   ]
  },
  {
   "cell_type": "markdown",
   "id": "50548a04",
   "metadata": {},
   "source": [
    "```python\n",
    "def quick_sort(A,first,last):\n",
    "    if first>=last:\n",
    "        return\n",
    "    #1\n",
    "    p = A[first]\n",
    "    #2\n",
    "    left = first+1\n",
    "    right = last\n",
    "    #3. \n",
    "    while left<=right:\n",
    "    #4. \n",
    "        while left<=right and A[left]<p:\n",
    "            left+=1\n",
    "    #5. \n",
    "        while left<=right and A[right]>p:\n",
    "            right-=1\n",
    "        #6. \n",
    "        if left<=right:\n",
    "            A[left],A[right] = A[right],A[left]\n",
    "            left+=1\n",
    "            right-=1\n",
    "        #7.\n",
    "    A[first],A[right] = A[right],A[first]\n",
    "    #8.\n",
    "    quick_sort(A,first,right-1)\n",
    "    quick_sort(A,right+1,last)\n",
    "```"
   ]
  },
  {
   "cell_type": "markdown",
   "id": "5f3b0640",
   "metadata": {},
   "source": [
    "#1. Pivot을 설정한다.\n",
    "\n",
    "#2. left, right을 설정한다.\n",
    "\n",
    "#3. left 가 right 보다 작은 동안 while 문을 실행한다. \n",
    "\n",
    "#4. pivot 보다 A[left]보다 작으면 left 를 증가시킨다.\n",
    "\n",
    "#5. pivot보다 A[right]보다 크면 right을 감소시킨다.\n",
    "\n",
    "#6. left 보다 right이 작으면, 즉 역전하지 않았다면 left 와 right을 바꾼다. 그 뒤에 left는 증가, right은 감소시킨다.\n",
    "\n",
    "#7. 모든 while 문이 종료되고 난 뒤에는 pivot이 pivot보다 작은 숫자들 뒤에, 큰 숫자들 앞에 위치해야 하기에 A[first]와 A[right]을 바꾼다. (A[first]가 피봇)\n",
    "\n",
    "#8. Inplace가 아닌 quick sort와 유사하게 pivot인 A[right]의 앞과 뒤에 quick_sort 함수를 호출한다."
   ]
  }
 ],
 "metadata": {
  "kernelspec": {
   "display_name": "Python 3 (ipykernel)",
   "language": "python",
   "name": "python3"
  },
  "language_info": {
   "codemirror_mode": {
    "name": "ipython",
    "version": 3
   },
   "file_extension": ".py",
   "mimetype": "text/x-python",
   "name": "python",
   "nbconvert_exporter": "python",
   "pygments_lexer": "ipython3",
   "version": "3.9.7"
  }
 },
 "nbformat": 4,
 "nbformat_minor": 5
}
