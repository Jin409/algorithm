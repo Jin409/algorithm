{
 "cells": [
  {
   "cell_type": "markdown",
   "id": "cf06f17f",
   "metadata": {},
   "source": [
    "# 분할 정복 알고리즘 (Devide - and - Conqeur)"
   ]
  },
  {
   "cell_type": "markdown",
   "id": "ef7235d0",
   "metadata": {},
   "source": [
    "### 분할 정복 알고리즘이란?\n",
    "- 주어진 문제의 입력을 문할하여 해결하는 방식의 알고리즘\n",
    "- 분할된 입력에 대하여 동일한 알고리즘을 적용하여 해를 계산, 이를 취합하여 원래의 해를 얻음.\n",
    "- 입력크기인 n이 계속해서 반씩 줄어들어 언젠가 1이 된다면 더 이상 분할하지 않는다.\n",
    "- 줄어드는 횟수는 $\\log_2 n$ 이다. (지속해서 2씩 나누기 때문)\n"
   ]
  },
  {
   "cell_type": "markdown",
   "id": "23ebf462",
   "metadata": {},
   "source": [
    "### 합병 정렬\n",
    "\n",
    "- n개의 숫자들을 n/2개씩 2개의 부분 문제로 분할하여 합병 정렬하고, 정렬된 부분들을 합병하여 정렬."
   ]
  },
  {
   "cell_type": "code",
   "execution_count": 5,
   "id": "3a4586f4",
   "metadata": {},
   "outputs": [],
   "source": [
    "\n",
    "def merge_sort(A,first,last):\n",
    "    if first>=last:\n",
    "        return\n",
    "    #1. \n",
    "    merge_sort(A,first,(first+last)//2)\n",
    "    #2.\n",
    "    merge_sort(A,(first+last)//2+1,last)\n",
    "    #3\n",
    "    # merge_two_sorted_lists(A,first,last)"
   ]
  },
  {
   "cell_type": "code",
   "execution_count": 11,
   "id": "f4e64d60",
   "metadata": {},
   "outputs": [],
   "source": [
    "def merge_two_sorted_lists(A,first,last):\n",
    "    #1\n",
    "    m = (first+last)//2\n",
    "    #2\n",
    "    i,j = first,m+1\n",
    "    #3\n",
    "    B = []\n",
    "    #4\n",
    "    while i<=m and j<=last:\n",
    "        if A[i]<A[j]:\n",
    "            B.append(A[i])\n",
    "            i+=1\n",
    "        elif A[i]>A[j]:\n",
    "            B.append(A[j])\n",
    "            j+=1\n",
    "        else:\n",
    "            B.append(A[i])\n",
    "            i+=1\n",
    "            j+=1\n",
    "        #3.\n",
    "        while i<=m:\n",
    "            B.append(A[i])\n",
    "            i+=1\n",
    "        while j<=last:\n",
    "            B.append(A[j])\n",
    "        \n",
    "    for i in range(first,last+1):\n",
    "        A[i] = B[i-first]\n"
   ]
  },
  {
   "cell_type": "markdown",
   "id": "f96e455f",
   "metadata": {},
   "source": [
    "##### 1 . 범위를 반으로 나누어 m을 인덱스의 기준점으로 삼는다.\n",
    "\n",
    "##### 2. i는 A의 반의 앞쪽부분, j는 A의 반의 뒷쪽부분 인덱스로 설정한다.\n",
    "\n",
    "##### 3. 두 부분이 합병되어 담겨질 리스트를 생성한다.\n",
    "\n",
    "##### 4. i는 m 즉 범위의 반보다 작거나 같을 동안, j는 m+1부터 범위의 마지막일때까지 while 문을 돈다.\n",
    "\n",
    "- 여기서 A[i]가 더 작으면 B 에 append하고 앞쪽 인덱스인 i를 하나 증가시킨다.\n",
    "\n",
    "- A[j]가 더 작으면 B 에 append하고 뒷쪽 인덱스인 j를 하나 증가시킨다.\n",
    "\n",
    "- A[i]와 A[j]가 같다면 둘 중에 하나를 append하고 (어차피 같으므로) 두 인덱스인 i와 j 모두 하나씩 증가시킨다.\n",
    "\n",
    "##### 5. while문을 탈출하고 나서 A의 앞쪽 부분에 인덱스가 m보다 작다면 뒷쪽 부분의 인덱스가 last와 같아져서 while 문을 탈출한 것이기에 앞쪽 부분을 전부 B에 append한다.\n",
    "\n",
    "##### 6. #5와 동일한 내용\n",
    "\n",
    "##### 7. A는 first 부터 last까지이지만, B는 인덱스가 0부터 시작했으므로 A에는 B[i-first] 해주어야 한다.\n",
    "\n",
    "- ex) first가 10, last가 20이라면 B는 0부터 10까지이므로 B[i-first] 즉 first-first, first+1-first ... 가 되어야 한다."
   ]
  },
  {
   "cell_type": "markdown",
   "id": "3294d6e4",
   "metadata": {},
   "source": [
    "#### 합병 정렬의 의사코드\n",
    "\n",
    "```python\n",
    "\n",
    "MergeSort(A,p,g)\n",
    "if (p<q)\n",
    "    k = (p+q)/2\n",
    "    MergeSort(A,p,k)\n",
    "    MergeSort(A,k+1,q)\n",
    "    이후 A[p]~A[k] 와 A[k+1]~A[q]를 합병\n",
    "\n",
    "```\n",
    "\n",
    "- p가 시작점, q가 끝점. \n",
    "- k는 p와 q의 중앙 \n",
    "- 재귀적으로 k를 기준으로 왼쪽 반, 오른쪽 반을 정렬.\n",
    "- 종료 조건은 개수가 하나일떄"
   ]
  },
  {
   "cell_type": "markdown",
   "id": "6c3de66a",
   "metadata": {},
   "source": [
    "### 합병 정렬의 시간복잡도\n",
    "\n",
    "- 분할은 O(1) => 중앙값 계산, 순환호출\n",
    "- 합병은 두 데이터의 집합을 합한 것만큼 비어있는 별도의 배열에 가장 작은 요소를 추가하고, 추가된 요소는 원래의 집합에서 삭제한다. \n",
    "    => 합병의 수행시간은 각 원소의 개수에 비례하므로 O(n) 이다.\n",
    "- 앞서 말했듯, n이 입력의 크기라면 $\\log_2 n$번만큼 비교를 해야 하므로 n * 1* $\\log_2 n$이므로 O(n $\\log_2 n$) 이다.\n",
    "    - 층수가 log2의 n만큼 나오고 각 층에서 계산은 O(n)만큼 하기때문!"
   ]
  },
  {
   "cell_type": "markdown",
   "id": "4f3e8eab",
   "metadata": {},
   "source": [
    "### 퀵 정렬\n",
    "\n",
    "- pivot 피봇을 범위 내에서 선택하고, A[left] (가장 작은 인덱스) 와 교환하고 피봇을 기준으로 왼쪽에는 피봇보다 더 작은 숫자들, 오른쪽에는 피봇보다 큰 숫자들을 정렬.\n",
    "- 모든 원소들을 피봇을 기준으로 정렬한 뒤, A[left] ~ A[p-1] 과 A[p+1] ~ A[right] 사이에 피봇을 위치시킨다."
   ]
  },
  {
   "cell_type": "markdown",
   "id": "87bbdee2",
   "metadata": {},
   "source": [
    "### 퀵 정렬의 시간복잡도\n",
    "\n",
    "- 퀵 정렬의 성능은 피봇이 좌우한다.\n",
    "- 피봇이 너무 크거나 너무 작은 경우에는 성능이 O($n^2$)으로 하락한다.\n",
    "- 최선의 경우에는 합병 정렬과 같이 O(n $\\log_2 n$)이다.\n",
    "- 성능이 O($n^2$)으로 하락하는 것을 방지하기 위하여 부분적으로 문제의 크기가 일정 이하로 줄어드는 경우에는 삽입 정렬을 이용하는 경우도 존재한다."
   ]
  },
  {
   "cell_type": "markdown",
   "id": "e00b01c8",
   "metadata": {},
   "source": [
    "#### 피봇을 잘 선정하는 방법은?\n",
    "\n",
    "- A[left] 와 A[right] 와 A[(left+right)/2] 의 값 중에서 중앙이 되는 값을 피봇으로 선정하면 평균적으로 성능이 향상된다."
   ]
  },
  {
   "cell_type": "markdown",
   "id": "50548a04",
   "metadata": {},
   "source": [
    "```python\n",
    "def quick_sort(A,first,last):\n",
    "    if first>=last:\n",
    "        return\n",
    "    #1\n",
    "    p = A[first]\n",
    "    #2\n",
    "    left = first+1\n",
    "    right = last\n",
    "    #3. \n",
    "    while left<=right:\n",
    "    #4. \n",
    "        while left<=right and A[left]<p:\n",
    "            left+=1\n",
    "    #5. \n",
    "        while left<=right and A[right]>p:\n",
    "            right-=1\n",
    "        #6. \n",
    "        if left<=right:\n",
    "            A[left],A[right] = A[right],A[left]\n",
    "            left+=1\n",
    "            right-=1\n",
    "        #7.\n",
    "    A[first],A[right] = A[right],A[first]\n",
    "    #8.\n",
    "    quick_sort(A,first,right-1)\n",
    "    quick_sort(A,right+1,last)\n",
    "```"
   ]
  },
  {
   "cell_type": "code",
   "execution_count": 1,
   "id": "5f3b0640",
   "metadata": {},
   "outputs": [],
   "source": [
    "#1. Pivot을 설정한다.\n",
    "\n",
    "#2. left, right을 설정한다.\n",
    "\n",
    "#3. left 가 right 보다 작은 동안 while 문을 실행한다. \n",
    "\n",
    "#4. pivot 보다 A[left]보다 작으면 left 를 증가시킨다.\n",
    "\n",
    "#5. pivot보다 A[right]보다 크면 right을 감소시킨다.\n",
    "\n",
    "#6. left 보다 right이 작으면, 즉 역전하지 않았다면 left 와 right을 바꾼다. 그 뒤에 left는 증가, right은 감소시킨다.\n",
    "\n",
    "#7. 모든 while 문이 종료되고 난 뒤에는 pivot이 pivot보다 작은 숫자들 뒤에, 큰 숫자들 앞에 위치해야 하기에 A[first]와 A[right]을 바꾼다. (A[first]가 피봇)\n",
    "\n",
    "#8. Inplace가 아닌 quick sort와 유사하게 pivot인 A[right]의 앞과 뒤에 quick_sort 함수를 호출한다."
   ]
  },
  {
   "cell_type": "markdown",
   "id": "af79c44e",
   "metadata": {},
   "source": [
    "### 선택 문제\n",
    "- n개의 숫자 중 k번째로 작은 숫자 찾기\n",
    "\n",
    "- 방법 1) 최소숫자를 k번 찾기 O(kn)\n",
    "- 방법 2) 숫자들을 정렬한 후 k번쨰 찾기 O(nlogn)\n",
    "\n",
    "- 아이디어 1) 이진탐색 : 정렬된 입력의 중간에 있는 숫자와 찾고자 하는 숫자를 비교하여 입력을 반으로 나눈 부분 중에서 한 부분만 검색\n",
    "- `아이디어 2) 선택문제 : 퀵 정렬에서와 같이 피봇을 선택하여 분할`"
   ]
  },
  {
   "cell_type": "markdown",
   "id": "05b14378",
   "metadata": {},
   "source": [
    "- Small Group 에는 Pivot 보다 작은 숫자들을, Large Group 에는 Pivot 보다 큰 숫자들이 위치할 수 있도록 함.\n",
    "- 그룹의 크기를 알아야 함. \n",
    "\n",
    "- K 가 small group 에 속하는 경우 이를 찾으면 됨.\n",
    "- k - small group에 속한 숫자의 개수 -1 => Large Group에서 찾으면 됨. "
   ]
  },
  {
   "cell_type": "markdown",
   "id": "5aef59ab",
   "metadata": {},
   "source": [
    "1. 피봇을 랜덤하게 선택하여 A[left]와 피봇의 위치를 바꿈.\n",
    "2. A[left]~A[p-1]에는 피봇보다 작은 수들, A[p]에는 피봇, 그 이후에는 피봇보다 큰 숫자들이 위치하도록. \n",
    "3. 만약 피봇보다 작은 숫자들의 수가 k보다 작거나 같다면 small group 에서, small group 의 크기보다 하나 크다면 피봇을, 둘 다 아니라면 Large group 에서 반환하면 된다.\n",
    "\n",
    "- `small group 의 크기` : (피봇의 위치 - 1) - A[left] + 1\n",
    "- `large group 의 크기` : A[right] - (피봇의 위치 + 1) + 1"
   ]
  },
  {
   "cell_type": "code",
   "execution_count": 3,
   "id": "2d933a68",
   "metadata": {},
   "outputs": [
    {
     "name": "stdout",
     "output_type": "stream",
     "text": [
      "입력 리스트 = [12, 3, 5, 7, 4, 19, 26, 23, 15]\n",
      "[정렬기법] 3번째 작은 수:  5\n",
      "[정렬기법] 6번째 작은 수:  15\n",
      "[축소정복] 3번째 작은 수:  5\n",
      "[축소정복] 6번째 작은 수:  15\n"
     ]
    }
   ],
   "source": [
    "\n",
    "#1 방법 2에 해당.        \n",
    "def kth_smallest_sort(A, k):#k번쨰로 작은 숫자 찾기\n",
    "    A.sort()#효율적으로 작은 숫자를 찾기 위하여 우선 정렬. -> 정렬을 하면 k번째로 작은 수는\n",
    "        # 배열의 k-1번째로 작은 수를 반환하면 됨. \n",
    "    return A[k-1] #k-1번쨰 인덱스를 반환하는 이유는 \n",
    "        #배열의 인덱스는 0번째부터 시작이지만 k는 1부터 시작하기 때문에 맞추기 위해서임.\n",
    "\n",
    "#배열이 이동한 것에 대하여 그룹의 크기를 통해 k 번째로 작은 수가 어디에 있을지 찾음. \n",
    "\n",
    "def quick_select(A, left, right, k): #입력 예시 : (array, 0, n-1, 3) 배열 / 시작점 / 끝점 / k번째로 작은 수\n",
    "    pos = partition(A, left, right) #partition 함수를 시작점과 끝점에 대하여 호출.\n",
    "    if (pos+1 == left+k): #k번쨰로 작은 수라는 위치와 pos+1 즉 피봇의 위치가 일치하면 시작점에서 k번째로 작은 수를 찾은 것이므로 \n",
    "        #해당 위치에 있는 값을 반환한다. \n",
    "        return A[pos]\n",
    "    elif (pos+1 > left+k): #만약 아직 찾지 못했고, k번째로 작은 수의 위치가 pos+1 보다 더 작다면, 범위를 낮춰야 하는 것이므로\n",
    "        #(이전에 호출했던 pos보다 왼쪽에 있는 것이기에) pos-1 (피봇보다 하나 작은 위치)를 끝점으로 두고 해당 함수를 호출한다.\n",
    "        return quick_select(A, left, pos-1, k)\n",
    "    else : #elif 조건과 반대되는 상황이다. k번째로 작은 수의 위치가 pos보다 크기에 이전에 반환한 pos+1 즉 피봇의 오른쪽을 \n",
    "        # 찾아봐야 한다. \n",
    "        #이전에 반환된 피봇보다 커야 하기에 시작점을 피봇보다 하나 큰 pos+1 로 잡는다.\n",
    "        # 현재 범위를 줄였기에 이전처럼 k번쨰로 작은 수를 찾는 것이 아니라, 새로운 범위에서 몇번쨰 숫자를 찾아야 하는지 계산해야 한다.\n",
    "        # 피봇에서 시작점을 빼서 피봇이 시작점을 기준으로 몇번째로 작은 숫자였는지를 k에서 뺀다.\n",
    "        #예를 들어, 8번째로 작은 숫자를 찾아야 하는데, pos+1 가 5이고 이전 호출의 시작점이 2이었다고 가정해보자. 그렇다면 새로운 범위(피봇보다 큰 범위)에서는 5번째 숫자를 찾으면 되는 것이다. 8-(5-2) (인덱스로는 2)\n",
    "        return quick_select(A, pos+1, right, k-(pos+1-left)) \n",
    "\n",
    " \n",
    "def partition(A, left, right): #pivot 을 기준으로 pivot 의 왼쪽에는 피봇보다 작은 숫자들, 피봇의 오른편에는 피봇보다 큰 숫자들을 나열한다. \n",
    "    low = left + 1 #피봇보다 하나 큰 점이 시작점이다. \n",
    "    high = right\n",
    "    pivot = A[left] #피봇을 범위의 시작점으로 잡음 (맨 처음 인덱스)\n",
    "    while (low <= high):#범위 내에서만 (피봇 다음부터) 이동시킨다. low 가 high 를 역전하면 중단시킨다.\n",
    "        while low <= right and A[low] < pivot : low += 1 #피봇보다 왼쪽에서 시작하는 점이 더 작고,\\\n",
    "            #오른쪽에서 시작하는 점을 지나치지 않는동안 왼쪽에서 시작하는 점인 low를 증가시킨다. (A[low]가 피봇보다 큰 순간 정지한다.)\n",
    "        while high >= left and A[high]> pivot : high-= 1 #위의 while 문과 반대의 역할을 한다.\n",
    "            #피봇보다 오른쪽에서 시작하는 점인 high가 더 큰 동안 (A[high]가 피봇보다 작은 순간 정지한다.)\n",
    "            #왼쪽에서 시작하는 점을 지나치지 않는동안 high를 감소시킨다. \n",
    "        if low < high : #만약 두 점이 만나거나 지나치지 않았다면 두 점을 서로 바꿔준다. (지나치는 경우는 정렬이 끝난 것이므로 해당 과정을 거치지 않아도 되는 것이다.)\n",
    "            A[low], A[high] = A[high], A[low] #위의 while 문 두개가 모두 종료되었다는 것은 바꿔야 할 두 개의 수를 찾은 것이다. 따라서 A[low]와 A[high]에 해당하는 두 수를 바꾼다.\n",
    "            #여기서 주의할 점은 low 와 high 즉 인덱스는 그대로이지만 값이 바뀐 것이다.  \n",
    "    A[left], A[high] = A[high], A[left] #high 는 위의 과정을 통해서 오른쪽에서 시작해 왼쪽으로 인덱스가 계속 감소하며 내려왔을 것이다.\n",
    "    #위의 while 문을 탈출했다는 것은 low가 high 보다 크다는 것이다. \n",
    "    #그렇다면, high 가 가리키는 인덱스가 pivot 보다 큰 숫자들 직전의 위치이다. 따라서 피봇을 해당 위치로 옮기는 것이다. \n",
    "    return high \n",
    "    #high는 피봇이 위치한 인덱스이다. (피봇인 A[left]와 A[high]의 값을 교환해줬으므로.)\n",
    "\n",
    "#------------------------------------------------------------------------\n",
    "array = [12, 3, 5, 7, 4, 19, 26, 23, 15]\n",
    "print(\"입력 리스트 =\", array)\n",
    "print(\"[정렬기법] 3번째 작은 수: \", kth_smallest_sort(array, 3)) # 정렬한 뒤 k-1번쨰 인덱스를 반환하는 방법.\n",
    "print(\"[정렬기법] 6번째 작은 수: \", kth_smallest_sort(array, 6))\n",
    "n = len(array) #범위를 정하기 위해 배열의 길이를 변수로 지정한다.\n",
    "print(\"[축소정복] 3번째 작은 수: \", quick_select(array, 0, n-1, 3)) #0번째 인덱스부터 마지막 인덱스의 범위에서 3번째로 작은 수를 찾는다. \n",
    "print(\"[축소정복] 6번째 작은 수: \", quick_select(array, 0, n-1, 6)) #0번째 인덱스부터 마지막 인덱스의 범위에서 6번째로 작은 수를 찾는다. \n"
   ]
  },
  {
   "cell_type": "markdown",
   "id": "c633378c",
   "metadata": {},
   "source": [
    "### 선택 알고리즘의 고려사항\n",
    "- 분할 정복 알고리즘이자 랜덤 알고리즘. -> 피봇을 랜덤하게 정하기 때문이다. -> 특정 그룹의 크기가 너무 커지고 그로 인해 수행 시간이 길어진다. \n",
    "- 치우치게 분할될 확률은 1/2 이다. (치우치거나, 치우치지 않거나)\n",
    "\n",
    "\n",
    "##### 왜 1/2 일까?\n",
    "- 분할된 두 그룹 중 하나의 크기가 입력 크기의 3/4 와 같거나 이보다 크면 나쁜 분할이라고 가정해보자. \n",
    "- 1 2 3 4 `5 6 7 8 9 10 11 12` 13 14 15 16 \n",
    "- 크기를 3/4 와 같거나 크게 만드는 숫자들이 16개 중 딱 8개이다. 따라서 1/2 임을 알 수 있다. \n",
    "    - 따라서 평균적으로 2회 연속으로 랜덤하게 피봇을 정하면 좋은 분할을 할 수 있다. \n",
    "\n",
    "#### 시간복잡도\n",
    "- 지속해서 3/4배씩 배열의 크기가 감소하기 때문에 `O(n) + O(n*4/3) + O(n*4/3^2).... `이므로 O(n) 이며 평균적으로 2번만에 좋은 분할이므로` 2 * O(n) = O(n)` 이다.\n",
    "\n",
    "##### 이진 탐색 알고리즘과 선택 알고리즘의 특징\n",
    "- 앞서 살펴봤던 합병정렬과는 다르게 다시 합치는 과정이 필요가 없다. "
   ]
  },
  {
   "cell_type": "markdown",
   "id": "166e4403",
   "metadata": {},
   "source": []
  }
 ],
 "metadata": {
  "kernelspec": {
   "display_name": "Python 3 (ipykernel)",
   "language": "python",
   "name": "python3"
  },
  "language_info": {
   "codemirror_mode": {
    "name": "ipython",
    "version": 3
   },
   "file_extension": ".py",
   "mimetype": "text/x-python",
   "name": "python",
   "nbconvert_exporter": "python",
   "pygments_lexer": "ipython3",
   "version": "3.10.4"
  }
 },
 "nbformat": 4,
 "nbformat_minor": 5
}
